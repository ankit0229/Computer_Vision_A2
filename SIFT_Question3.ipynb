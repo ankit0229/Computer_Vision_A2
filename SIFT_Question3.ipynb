{
 "cells": [
  {
   "cell_type": "code",
   "execution_count": 32,
   "metadata": {},
   "outputs": [],
   "source": [
    "import cv2\n",
    "import random\n",
    "import numpy as np\n",
    "import math\n",
    "import statistics\n",
    "import pickle\n",
    "from PIL import Image, ImageOps\n",
    "from tqdm import tqdm\n",
    "import matplotlib.pyplot as plt\n",
    "import scipy.linalg\n",
    "from collections import Counter\n",
    "from scipy.spatial import distance\n",
    "import warnings\n",
    "warnings.simplefilter(\"ignore\", RuntimeWarning)"
   ]
  },
  {
   "cell_type": "code",
   "execution_count": 33,
   "metadata": {},
   "outputs": [],
   "source": [
    "img_read_1 = Image.open(r\"Q3_2_SIFT.jpg\") \n",
    "img_read_1 = img_read_1.resize((256, 256))\n",
    "img_read_1.save(\"Data_SIFT_rgb.png\")\n",
    "img_rgb_array = np.array(img_read_1)\n",
    "img_gray_1 = ImageOps.grayscale(img_read_1)\n",
    "img_array_1 = np.array(img_gray_1)\n",
    "temp_pad_1 = np.pad(img_array_1, pad_width=1, mode='constant', constant_values=0)"
   ]
  },
  {
   "cell_type": "code",
   "execution_count": 34,
   "metadata": {},
   "outputs": [],
   "source": [
    "count_scales = 5\n",
    "window_size = 3\n",
    "value_sigma = 1.5\n",
    "list_np_array = []\n",
    "value_scaling_factor = pow(2,0.25)\n",
    "\n",
    "#Applying Gaussian Blur on the five scales\n",
    "for a in range(count_scales):\n",
    "    img_output = cv2.GaussianBlur(img_array_1,(window_size,window_size),value_sigma)\n",
    "    list_np_array.append(img_output)\n",
    "    value_sigma = value_sigma * value_scaling_factor"
   ]
  },
  {
   "cell_type": "code",
   "execution_count": 35,
   "metadata": {},
   "outputs": [],
   "source": [
    "list_DOG = []\n",
    "for b in range(len(list_np_array) - 1):\n",
    "    arr_scale_1 = list_np_array[b]\n",
    "    arr_scale_2 = list_np_array[b+1]\n",
    "    arr_DOG = np.subtract(arr_scale_1, arr_scale_2)\n",
    "    list_DOG.append(arr_DOG)"
   ]
  },
  {
   "cell_type": "code",
   "execution_count": 36,
   "metadata": {},
   "outputs": [],
   "source": [
    "#Now finding the pixels which are a maxima or a minima\n",
    "list_max_min_cord = []\n",
    "for c in range(1,len(list_DOG)-1):\n",
    "    #Now picking each pixel in that particulaer DoG\n",
    "    curr_array = list_DOG[c]\n",
    "    for row_num in range(1, curr_array.shape[0] - 1):\n",
    "        for col_num in range(1, curr_array.shape[1] - 1):\n",
    "            curr_pixel_val = curr_array[row_num][col_num]\n",
    "            list_neigh_values = []\n",
    "            list_neigh_values.append(curr_array[row_num][col_num-1])\n",
    "            list_neigh_values.append(curr_array[row_num][col_num+1])\n",
    "            row_abv = curr_array[row_num-1,col_num-1:col_num+2]\n",
    "            row_bel = curr_array[row_num+1,col_num-1:col_num+2]\n",
    "            list_neigh_values.extend(row_abv.tolist())\n",
    "            list_neigh_values.extend(row_bel.tolist())\n",
    "            list_idx_scale = [c-1, c+1]\n",
    "            for scale_idx in list_idx_scale:\n",
    "                scale_DoG = list_DOG[scale_idx]\n",
    "                arr_slice = scale_DoG[row_num-1:row_num+2, col_num-1:col_num+2]\n",
    "                list_slice = arr_slice.tolist()\n",
    "                for r in list_slice:\n",
    "                    list_neigh_values.extend(r)\n",
    "            \n",
    "            #Now finding the max and min value in the neighbors\n",
    "            max_neigh = max(list_neigh_values)\n",
    "            min_neigh = min(list_neigh_values)\n",
    "            \n",
    "            if curr_pixel_val > max_neigh or curr_pixel_val < min_neigh:\n",
    "                list_max_min_cord.append([row_num, col_num])"
   ]
  },
  {
   "cell_type": "code",
   "execution_count": 37,
   "metadata": {},
   "outputs": [],
   "source": [
    "#Eliminating the low contrast points among all keypoints\n",
    "value_k = 0.05\n",
    "#Now moving window and finding the M matrix for the window\n",
    "dict_window_cord = {}\n",
    "list_score_pairs = []\n",
    "count_window = 0\n",
    "\n",
    "for d in range(len(list_max_min_cord)):\n",
    "    c = list_max_min_cord[d]\n",
    "    c_r, c_c = c[0], c[1]\n",
    "    sum_ix2, sum_iy2, sum_ix_iy = 0, 0, 0\n",
    "    val_ix = temp_pad_1[c_r][c_c-1] - temp_pad_1[c_r][c_c+1]\n",
    "    val_iy = temp_pad_1[c_r-1][c_c] - temp_pad_1[c_r+1][c_c]\n",
    "    sum_ix2 = sum_ix2 + (val_ix * val_ix)\n",
    "    sum_iy2 = sum_iy2 + (val_iy * val_iy)\n",
    "    sum_ix_iy = sum_ix_iy + (val_ix * val_iy)\n",
    "    val_determinant = (sum_ix2 * sum_iy2) - (sum_ix_iy * sum_ix_iy)\n",
    "    val_trace = sum_ix2 + sum_iy2\n",
    "    val_score = val_determinant - (value_k * val_trace)\n",
    "    list_score_pairs.append([d, val_score])\n",
    "    \n",
    "list_score_pairs.sort(key = lambda x:x[1], reverse = True)"
   ]
  },
  {
   "cell_type": "code",
   "execution_count": 38,
   "metadata": {},
   "outputs": [],
   "source": [
    "count_keyp = 250\n",
    "copy_img_rgb_array = np.array(img_rgb_array)\n",
    "\n",
    "for i in range(count_keyp):\n",
    "    idx_pt = list_score_pairs[i][0]\n",
    "    key_pt = list_max_min_cord[idx_pt]\n",
    "    orig_x, orig_y = key_pt[0]-1, key_pt[1]-1\n",
    "    copy_img_rgb_array[orig_x][orig_y][0] = 255 \n",
    "    copy_img_rgb_array[orig_x][orig_y][1] = 0 \n",
    "    copy_img_rgb_array[orig_x][orig_y][2] = 0 \n",
    "new_img = Image.fromarray(copy_img_rgb_array)\n",
    "new_img.save(\"Result_SIFT_keypoints.png\")\n",
    "new_img.show()\n"
   ]
  },
  {
   "cell_type": "code",
   "execution_count": null,
   "metadata": {},
   "outputs": [],
   "source": []
  }
 ],
 "metadata": {
  "kernelspec": {
   "display_name": "Python 3",
   "language": "python",
   "name": "python3"
  },
  "language_info": {
   "codemirror_mode": {
    "name": "ipython",
    "version": 3
   },
   "file_extension": ".py",
   "mimetype": "text/x-python",
   "name": "python",
   "nbconvert_exporter": "python",
   "pygments_lexer": "ipython3",
   "version": "3.7.6"
  }
 },
 "nbformat": 4,
 "nbformat_minor": 4
}
