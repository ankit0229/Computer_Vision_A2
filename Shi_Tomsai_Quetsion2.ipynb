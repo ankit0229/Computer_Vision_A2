{
 "cells": [
  {
   "cell_type": "code",
   "execution_count": 10,
   "metadata": {},
   "outputs": [],
   "source": [
    "import cv2\n",
    "import random\n",
    "import numpy as np\n",
    "import math\n",
    "import statistics\n",
    "import pickle\n",
    "from PIL import Image, ImageOps\n",
    "from tqdm import tqdm\n",
    "import matplotlib.pyplot as plt\n",
    "import scipy.linalg\n",
    "from collections import Counter\n",
    "from scipy.spatial import distance\n",
    "import warnings\n",
    "warnings.simplefilter(\"ignore\", RuntimeWarning)"
   ]
  },
  {
   "cell_type": "code",
   "execution_count": 11,
   "metadata": {},
   "outputs": [],
   "source": [
    "img_read_1 = Image.open(r\"Q1_image.jpg\") \n",
    "img_read_1 = img_read_1.resize((256, 256))\n",
    "img_gray_1 = ImageOps.grayscale(img_read_1)\n",
    "img_array_1 = np.array(img_gray_1)\n",
    "temp_pad_1 = np.pad(img_array_1, pad_width=1, mode='constant', constant_values=0)\n",
    "count_row_pad_img = temp_pad_1.shape[0]\n",
    "count_col_pad_img = temp_pad_1.shape[1]"
   ]
  },
  {
   "cell_type": "code",
   "execution_count": 12,
   "metadata": {},
   "outputs": [],
   "source": [
    "window_row = 2\n",
    "window_col = 2\n",
    "#Now moving window and finding the M matrix for the window\n",
    "dict_window_cord = {}\n",
    "list_score_pairs = []\n",
    "count_window = 0\n",
    "for a in range(1,count_row_pad_img - window_row, +1):\n",
    "    end_a = a + window_row -1\n",
    "    for b in range(1,count_col_pad_img - window_col, +1):\n",
    "        count_window += 1\n",
    "        end_b = b + window_col -1\n",
    "        dict_window_cord[count_window] = [[a, end_a],[b, end_b]]\n",
    "        sum_ix2, sum_iy2, sum_ix_iy = 0, 0, 0\n",
    "        for c in range(a, end_a + 1):\n",
    "            for d in range(b, end_b + 1):\n",
    "                val_ix = temp_pad_1[c][d-1] - temp_pad_1[c][d+1]\n",
    "                val_iy = temp_pad_1[c-1][d] - temp_pad_1[c+1][d]\n",
    "                sum_ix2 = sum_ix2 + (val_ix * val_ix)\n",
    "                sum_iy2 = sum_iy2 + (val_iy * val_iy)\n",
    "                sum_ix_iy = sum_ix_iy + (val_ix * val_iy)\n",
    "                \n",
    "        #Finding the score\n",
    "        matrix_m = [[sum_ix2, sum_ix_iy],[sum_ix_iy, sum_iy2]]\n",
    "        np_matrix_m = np.array(matrix_m)\n",
    "        eigvals, eigvecs = scipy.linalg.eig(np_matrix_m)\n",
    "        real_eigen_val = eigvals.real\n",
    "        lambda_1, lambda_2 = real_eigen_val[0], real_eigen_val[1]\n",
    "        val_score = min(lambda_1, lambda_2)\n",
    "        list_score_pairs.append([count_window, val_score])"
   ]
  },
  {
   "cell_type": "code",
   "execution_count": 13,
   "metadata": {},
   "outputs": [],
   "source": [
    "list_score_pairs.sort(key = lambda x:x[1], reverse = True)\n",
    "count_corners = 150\n",
    "img_rgb_array = np.array(img_read_1)\n",
    "cpy_temp_pad_1 = np.copy(temp_pad_1)\n",
    "for e in range(count_corners):\n",
    "    window_id = list_score_pairs[e][0]\n",
    "    list_window_cord = dict_window_cord[window_id]\n",
    "    cord_rows, cord_cols = list_window_cord[0], list_window_cord[1]\n",
    "    for f in range(cord_rows[0], cord_rows[1]+1):\n",
    "        for g in range(cord_cols[0], cord_cols[1]+1):\n",
    "            cpy_temp_pad_1[f][g] = 0"
   ]
  },
  {
   "cell_type": "code",
   "execution_count": 14,
   "metadata": {},
   "outputs": [],
   "source": [
    "new_im = Image.fromarray(cpy_temp_pad_1)\n",
    "new_im.save(\"Result_Shi_corners.png\")\n",
    "new_im.show()"
   ]
  }
 ],
 "metadata": {
  "kernelspec": {
   "display_name": "Python 3",
   "language": "python",
   "name": "python3"
  },
  "language_info": {
   "codemirror_mode": {
    "name": "ipython",
    "version": 3
   },
   "file_extension": ".py",
   "mimetype": "text/x-python",
   "name": "python",
   "nbconvert_exporter": "python",
   "pygments_lexer": "ipython3",
   "version": "3.7.6"
  }
 },
 "nbformat": 4,
 "nbformat_minor": 4
}
